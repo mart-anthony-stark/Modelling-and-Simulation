{
  "nbformat": 4,
  "nbformat_minor": 0,
  "metadata": {
    "colab": {
      "name": "Freshmen Calculus.ipynb",
      "provenance": [],
      "collapsed_sections": []
    },
    "kernelspec": {
      "name": "python3",
      "display_name": "Python 3"
    },
    "language_info": {
      "name": "python"
    }
  },
  "cells": [
    {
      "cell_type": "code",
      "execution_count": 1,
      "metadata": {
        "id": "rCtf6Q4diWdr"
      },
      "outputs": [],
      "source": [
        "import sympy as smp\n",
        "from sympy import *"
      ]
    },
    {
      "cell_type": "code",
      "source": [
        "x, y = smp.symbols(\"x y\")"
      ],
      "metadata": {
        "id": "C4ZG38ZolBDO"
      },
      "execution_count": 2,
      "outputs": []
    },
    {
      "cell_type": "markdown",
      "source": [
        "# Limits"
      ],
      "metadata": {
        "id": "SuU8TesGmZsL"
      }
    },
    {
      "cell_type": "markdown",
      "source": [
        "$$\\lim_{x \\to \\pi} \\sin(x/2+ \\sin(x))$$"
      ],
      "metadata": {
        "id": "Mdl4gsLamXZg"
      }
    },
    {
      "cell_type": "code",
      "source": [
        "smp.limit(smp.sin(x/2) + smp.sin(x), x, smp.pi)"
      ],
      "metadata": {
        "colab": {
          "base_uri": "https://localhost:8080/",
          "height": 37
        },
        "id": "1UZOkkgYmckz",
        "outputId": "e399664c-6a59-4f13-d2ff-dc1695e75149"
      },
      "execution_count": 3,
      "outputs": [
        {
          "output_type": "execute_result",
          "data": {
            "text/plain": [
              "1"
            ],
            "text/latex": "$\\displaystyle 1$"
          },
          "metadata": {},
          "execution_count": 3
        }
      ]
    },
    {
      "cell_type": "markdown",
      "source": [
        "$$ \\lim_{x \\to 0^+} \\frac{2e^{1/x}}{e^{1/x}+1} $$"
      ],
      "metadata": {
        "id": "aCaey_NMm0Oy"
      }
    },
    {
      "cell_type": "code",
      "source": [
        "smp.limit(2*smp.exp(1/x) / (smp.exp(1/x) + 1), x, 0, dir=\"+\")"
      ],
      "metadata": {
        "colab": {
          "base_uri": "https://localhost:8080/",
          "height": 37
        },
        "id": "J0Q1WYlrm0zg",
        "outputId": "79238178-8f3b-4f4a-d8b6-6137579da46d"
      },
      "execution_count": 4,
      "outputs": [
        {
          "output_type": "execute_result",
          "data": {
            "text/plain": [
              "2"
            ],
            "text/latex": "$\\displaystyle 2$"
          },
          "metadata": {},
          "execution_count": 4
        }
      ]
    },
    {
      "cell_type": "markdown",
      "source": [
        "$$ \\lim_{x \\to 0^-} \\frac{2e^{1/x}}{e^{1/x}+1} $$"
      ],
      "metadata": {
        "id": "trx1uyb3nVa8"
      }
    },
    {
      "cell_type": "code",
      "source": [
        "smp.limit(2*smp.exp(1/x) / (smp.exp(1/x) + 1), x, 0, dir=\"-\")"
      ],
      "metadata": {
        "colab": {
          "base_uri": "https://localhost:8080/",
          "height": 37
        },
        "id": "yrHOuDKVnXmD",
        "outputId": "f51ccac6-b4d3-4dca-9dee-1369a75bbd2b"
      },
      "execution_count": 5,
      "outputs": [
        {
          "output_type": "execute_result",
          "data": {
            "text/plain": [
              "0"
            ],
            "text/latex": "$\\displaystyle 0$"
          },
          "metadata": {},
          "execution_count": 5
        }
      ]
    },
    {
      "cell_type": "markdown",
      "source": [
        "$$ \\lim_{x \\to \\infty} \\frac{\\cos(x)-1}{x} $$"
      ],
      "metadata": {
        "id": "3MZsmkWAn0B5"
      }
    },
    {
      "cell_type": "code",
      "source": [
        "smp.limit((smp.cos(x)-1) / x, x, smp.oo)"
      ],
      "metadata": {
        "colab": {
          "base_uri": "https://localhost:8080/",
          "height": 37
        },
        "id": "FLSEenNXnziD",
        "outputId": "d048ecba-8ab8-48cb-b7af-4422569d411b"
      },
      "execution_count": 6,
      "outputs": [
        {
          "output_type": "execute_result",
          "data": {
            "text/plain": [
              "0"
            ],
            "text/latex": "$\\displaystyle 0$"
          },
          "metadata": {},
          "execution_count": 6
        }
      ]
    },
    {
      "cell_type": "markdown",
      "source": [
        "# Derivatives"
      ],
      "metadata": {
        "id": "Ans3XSK9oJJ0"
      }
    },
    {
      "cell_type": "markdown",
      "source": [
        "$$ \\frac{d}{dx} \\left( \\frac{1+\\sin x}{1 - \\cos x} \\right)^2 $$"
      ],
      "metadata": {
        "id": "piW5oc0Ro1Ts"
      }
    },
    {
      "cell_type": "code",
      "source": [
        "smp.diff( ( (1 + smp.sin(x)) / (1 - smp.cos(x)) )**2, x)"
      ],
      "metadata": {
        "colab": {
          "base_uri": "https://localhost:8080/",
          "height": 63
        },
        "id": "sVC-B9KcoL9T",
        "outputId": "81e3e634-1fba-42ac-8fcc-85fb7327a67a"
      },
      "execution_count": 7,
      "outputs": [
        {
          "output_type": "execute_result",
          "data": {
            "text/plain": [
              "2*(sin(x) + 1)*cos(x)/(1 - cos(x))**2 - 2*(sin(x) + 1)**2*sin(x)/(1 - cos(x))**3"
            ],
            "text/latex": "$\\displaystyle \\frac{2 \\left(\\sin{\\left(x \\right)} + 1\\right) \\cos{\\left(x \\right)}}{\\left(1 - \\cos{\\left(x \\right)}\\right)^{2}} - \\frac{2 \\left(\\sin{\\left(x \\right)} + 1\\right)^{2} \\sin{\\left(x \\right)}}{\\left(1 - \\cos{\\left(x \\right)}\\right)^{3}}$"
          },
          "metadata": {},
          "execution_count": 7
        }
      ]
    },
    {
      "cell_type": "markdown",
      "source": [
        "$$ \\frac{d}{dx} (\\log_5 (x))^{x/2}$$"
      ],
      "metadata": {
        "id": "S1PM6Q66pdK2"
      }
    },
    {
      "cell_type": "code",
      "source": [
        "smp.diff(log(x, 5) ** (x/2), x)"
      ],
      "metadata": {
        "colab": {
          "base_uri": "https://localhost:8080/",
          "height": 80
        },
        "id": "PMufGa0mpfSN",
        "outputId": "87393a3f-ae94-4b81-ff13-d228df262998"
      },
      "execution_count": 8,
      "outputs": [
        {
          "output_type": "execute_result",
          "data": {
            "text/plain": [
              "(log(x)/log(5))**(x/2)*(log(log(x)/log(5))/2 + 1/(2*log(x)))"
            ],
            "text/latex": "$\\displaystyle \\left(\\frac{\\log{\\left(x \\right)}}{\\log{\\left(5 \\right)}}\\right)^{\\frac{x}{2}} \\left(\\frac{\\log{\\left(\\frac{\\log{\\left(x \\right)}}{\\log{\\left(5 \\right)}} \\right)}}{2} + \\frac{1}{2 \\log{\\left(x \\right)}}\\right)$"
          },
          "metadata": {},
          "execution_count": 8
        }
      ]
    },
    {
      "cell_type": "markdown",
      "source": [
        "$$\\frac{d}{dx} f(x+g(x)) $$"
      ],
      "metadata": {
        "id": "5-mjyZvkp-_7"
      }
    },
    {
      "cell_type": "code",
      "source": [
        "f, g = smp.symbols('f g', cls=smp.Function)\n",
        "g = g(x)\n",
        "f = f(x+g)"
      ],
      "metadata": {
        "id": "6EvlhgWVp_S0"
      },
      "execution_count": 9,
      "outputs": []
    },
    {
      "cell_type": "code",
      "source": [
        "smp.diff(f, x)"
      ],
      "metadata": {
        "colab": {
          "base_uri": "https://localhost:8080/",
          "height": 62
        },
        "id": "LGeWIxPzqOIT",
        "outputId": "2c579022-bc05-485c-dd61-5c44f45ba906"
      },
      "execution_count": 10,
      "outputs": [
        {
          "output_type": "execute_result",
          "data": {
            "text/plain": [
              "(Derivative(g(x), x) + 1)*Subs(Derivative(f(_xi_1), _xi_1), _xi_1, x + g(x))"
            ],
            "text/latex": "$\\displaystyle \\left(\\frac{d}{d x} g{\\left(x \\right)} + 1\\right) \\left. \\frac{d}{d \\xi_{1}} f{\\left(\\xi_{1} \\right)} \\right|_{\\substack{ \\xi_{1}=x + g{\\left(x \\right)} }}$"
          },
          "metadata": {},
          "execution_count": 10
        }
      ]
    },
    {
      "cell_type": "markdown",
      "source": [
        "# Antiderivatives"
      ],
      "metadata": {
        "id": "ljk5udg4q6U-"
      }
    },
    {
      "cell_type": "markdown",
      "source": [
        "$$ \\int \\csc(x) \\cot (x)  dx $$"
      ],
      "metadata": {
        "id": "PfEo0ldZq95E"
      }
    },
    {
      "cell_type": "code",
      "source": [
        "smp.integrate(smp.csc(x)*smp.cot(x), x)"
      ],
      "metadata": {
        "colab": {
          "base_uri": "https://localhost:8080/",
          "height": 55
        },
        "id": "f6xkgjw5q70h",
        "outputId": "b021dd94-67c5-4ad2-f9d1-317fbbf77e4f"
      },
      "execution_count": 11,
      "outputs": [
        {
          "output_type": "execute_result",
          "data": {
            "text/plain": [
              "-1/sin(x)"
            ],
            "text/latex": "$\\displaystyle - \\frac{1}{\\sin{\\left(x \\right)}}$"
          },
          "metadata": {},
          "execution_count": 11
        }
      ]
    },
    {
      "cell_type": "markdown",
      "source": [
        "$$ \\int 4 \\sec (3x) \\tan(3x)dx $$"
      ],
      "metadata": {
        "id": "CLxahWpTrUAk"
      }
    },
    {
      "cell_type": "code",
      "source": [
        "smp.integrate(4*smp.sec(3*x)*smp.tan(3*x), x)"
      ],
      "metadata": {
        "colab": {
          "base_uri": "https://localhost:8080/",
          "height": 55
        },
        "id": "f2SYqjhIrQ7D",
        "outputId": "a8d2e884-9d90-4cda-ced3-91bfe6a0d5af"
      },
      "execution_count": 12,
      "outputs": [
        {
          "output_type": "execute_result",
          "data": {
            "text/plain": [
              "4/(3*cos(3*x))"
            ],
            "text/latex": "$\\displaystyle \\frac{4}{3 \\cos{\\left(3 x \\right)}}$"
          },
          "metadata": {},
          "execution_count": 12
        }
      ]
    },
    {
      "cell_type": "markdown",
      "source": [
        "$$ \\int \\left( \\frac{2}{\\sqrt{1-x^2}} - \\frac{1}{x^{1/4}}\\right) dx$$"
      ],
      "metadata": {
        "id": "3YrfGhAIr7Me"
      }
    },
    {
      "cell_type": "code",
      "source": [
        "smp.integrate(2/smp.sqrt(1-x**2) - 1/(x**smp.Rational(1,4)), x)"
      ],
      "metadata": {
        "colab": {
          "base_uri": "https://localhost:8080/",
          "height": 56
        },
        "id": "bJ6r4pDesXIE",
        "outputId": "6e786a7e-224f-4391-c442-e3a8ded5c36f"
      },
      "execution_count": 13,
      "outputs": [
        {
          "output_type": "execute_result",
          "data": {
            "text/plain": [
              "-4*x**(3/4)/3 + 2*asin(x)"
            ],
            "text/latex": "$\\displaystyle - \\frac{4 x^{\\frac{3}{4}}}{3} + 2 \\operatorname{asin}{\\left(x \\right)}$"
          },
          "metadata": {},
          "execution_count": 13
        }
      ]
    },
    {
      "cell_type": "markdown",
      "source": [
        "# Value Problems"
      ],
      "metadata": {
        "id": "mz2OhSoTtMlD"
      }
    },
    {
      "cell_type": "markdown",
      "source": [
        "1. Given $\\frac{dy}{dx} = 8x + \\csc^2(x)$ with $y(\\pi/2) = -7$  solve for $y(x)$"
      ],
      "metadata": {
        "id": "u5iiH6qStWxb"
      }
    },
    {
      "cell_type": "code",
      "source": [
        "integral = smp.integrate(8*x + smp.csc(x)**2, x)"
      ],
      "metadata": {
        "id": "WUPObzeYtXPs"
      },
      "execution_count": 14,
      "outputs": []
    },
    {
      "cell_type": "code",
      "source": [
        "C = - integral.subs(x, smp.pi/2) - 7\n",
        "C"
      ],
      "metadata": {
        "colab": {
          "base_uri": "https://localhost:8080/",
          "height": 38
        },
        "id": "2_qa_vxTthAK",
        "outputId": "46723b26-edf3-40b0-8a72-0dd778a670b2"
      },
      "execution_count": 15,
      "outputs": [
        {
          "output_type": "execute_result",
          "data": {
            "text/plain": [
              "-pi**2 - 7"
            ],
            "text/latex": "$\\displaystyle - \\pi^{2} - 7$"
          },
          "metadata": {},
          "execution_count": 15
        }
      ]
    },
    {
      "cell_type": "code",
      "source": [
        "y = integral + C\n",
        "y"
      ],
      "metadata": {
        "colab": {
          "base_uri": "https://localhost:8080/",
          "height": 57
        },
        "id": "uuyxj8-7t3lc",
        "outputId": "12a557ee-37a5-4ca9-ea29-1695954d1041"
      },
      "execution_count": 16,
      "outputs": [
        {
          "output_type": "execute_result",
          "data": {
            "text/plain": [
              "4*x**2 - pi**2 - 7 - cos(x)/sin(x)"
            ],
            "text/latex": "$\\displaystyle 4 x^{2} - \\pi^{2} - 7 - \\frac{\\cos{\\left(x \\right)}}{\\sin{\\left(x \\right)}}$"
          },
          "metadata": {},
          "execution_count": 16
        }
      ]
    },
    {
      "cell_type": "code",
      "source": [
        "y.subs(x, smp.pi/2)"
      ],
      "metadata": {
        "colab": {
          "base_uri": "https://localhost:8080/",
          "height": 37
        },
        "id": "L_5JCzGBt87t",
        "outputId": "f1bf5d51-f0c4-491e-c1e0-f48fcd819458"
      },
      "execution_count": 17,
      "outputs": [
        {
          "output_type": "execute_result",
          "data": {
            "text/plain": [
              "-7"
            ],
            "text/latex": "$\\displaystyle -7$"
          },
          "metadata": {},
          "execution_count": 17
        }
      ]
    },
    {
      "cell_type": "code",
      "source": [
        "y"
      ],
      "metadata": {
        "colab": {
          "base_uri": "https://localhost:8080/",
          "height": 57
        },
        "id": "ACUbmPOhuFhG",
        "outputId": "280d33dd-23a5-4d9c-9dbf-c43896540624"
      },
      "execution_count": 18,
      "outputs": [
        {
          "output_type": "execute_result",
          "data": {
            "text/plain": [
              "4*x**2 - pi**2 - 7 - cos(x)/sin(x)"
            ],
            "text/latex": "$\\displaystyle 4 x^{2} - \\pi^{2} - 7 - \\frac{\\cos{\\left(x \\right)}}{\\sin{\\left(x \\right)}}$"
          },
          "metadata": {},
          "execution_count": 18
        }
      ]
    },
    {
      "cell_type": "markdown",
      "source": [
        "# Complicated Expressions"
      ],
      "metadata": {
        "id": "ovIj1_FHujlV"
      }
    },
    {
      "cell_type": "markdown",
      "source": [
        " $$\\int \\frac{(1+\\sqrt{x})^{1/3}}{\\sqrt{x}} dx$$"
      ],
      "metadata": {
        "id": "lTviffAQu3O1"
      }
    },
    {
      "cell_type": "code",
      "source": [
        "smp.integrate((1 + smp.sqrt(x))**smp.Rational(1,3) / smp.sqrt(x), x)"
      ],
      "metadata": {
        "colab": {
          "base_uri": "https://localhost:8080/",
          "height": 56
        },
        "id": "FPHmXkc4unBF",
        "outputId": "73977bd2-cbac-4179-e220-59c8da4bdcab"
      },
      "execution_count": 19,
      "outputs": [
        {
          "output_type": "execute_result",
          "data": {
            "text/plain": [
              "3*sqrt(x)*(sqrt(x) + 1)**(1/3)/2 + 3*(sqrt(x) + 1)**(1/3)/2"
            ],
            "text/latex": "$\\displaystyle \\frac{3 \\sqrt{x} \\sqrt[3]{\\sqrt{x} + 1}}{2} + \\frac{3 \\sqrt[3]{\\sqrt{x} + 1}}{2}$"
          },
          "metadata": {},
          "execution_count": 19
        }
      ]
    },
    {
      "cell_type": "markdown",
      "source": [
        "$$\\int x (1-x^2)^{1/4} dx$$"
      ],
      "metadata": {
        "id": "q2m3IwChvWH0"
      }
    },
    {
      "cell_type": "code",
      "source": [
        "smp.integrate(x*(1-x**2)**smp.Rational(1,4), x)"
      ],
      "metadata": {
        "colab": {
          "base_uri": "https://localhost:8080/",
          "height": 56
        },
        "id": "aoG89DqZvWcK",
        "outputId": "68312f4a-8aa4-4bb8-9912-463dddcd138e"
      },
      "execution_count": 20,
      "outputs": [
        {
          "output_type": "execute_result",
          "data": {
            "text/plain": [
              "2*x**2*(1 - x**2)**(1/4)/5 - 2*(1 - x**2)**(1/4)/5"
            ],
            "text/latex": "$\\displaystyle \\frac{2 x^{2} \\sqrt[4]{1 - x^{2}}}{5} - \\frac{2 \\sqrt[4]{1 - x^{2}}}{5}$"
          },
          "metadata": {},
          "execution_count": 20
        }
      ]
    },
    {
      "cell_type": "markdown",
      "source": [
        "$$ \\int \\frac{(2x-1)\\cos(\\sqrt{3(2x-1)^2+6})}{\\sqrt{3(2x-1)^2+6}} dx $$"
      ],
      "metadata": {
        "id": "4P__gjp3vtWt"
      }
    },
    {
      "cell_type": "code",
      "source": [
        "smp.integrate((2*x-1) * smp.cos(smp.sqrt(3*(2*x-1)**2 + 6)) / smp.sqrt(3*(2*x-1)**2 + 6), x)"
      ],
      "metadata": {
        "colab": {
          "base_uri": "https://localhost:8080/",
          "height": 76
        },
        "id": "Wbwi32BYvt5b",
        "outputId": "b49636ba-2d10-4648-8087-e637f9fc075f"
      },
      "execution_count": 21,
      "outputs": [
        {
          "output_type": "execute_result",
          "data": {
            "text/plain": [
              "sin(sqrt(3*(2*x - 1)**2 + 6))/6"
            ],
            "text/latex": "$\\displaystyle \\frac{\\sin{\\left(\\sqrt{3 \\left(2 x - 1\\right)^{2} + 6} \\right)}}{6}$"
          },
          "metadata": {},
          "execution_count": 21
        }
      ]
    },
    {
      "cell_type": "markdown",
      "source": [
        "# Definite Integrals"
      ],
      "metadata": {
        "id": "ur_Q_7GFx6Rk"
      }
    },
    {
      "cell_type": "markdown",
      "source": [
        "$$\\int_{0}^{\\ln(4)}\\frac{e^x dt}{\\sqrt{e^{2x}+9}} $$"
      ],
      "metadata": {
        "id": "xUq4wlH2x_wu"
      }
    },
    {
      "cell_type": "code",
      "source": [
        "smp.integrate(smp.exp(x) / smp.sqrt(smp.exp(2*x) + 9), (x, 0, smp.log(4)))"
      ],
      "metadata": {
        "colab": {
          "base_uri": "https://localhost:8080/",
          "height": 58
        },
        "id": "UvqKPb7Yx8-m",
        "outputId": "850c3f39-f636-4741-c419-ea17729d6288"
      },
      "execution_count": 22,
      "outputs": [
        {
          "output_type": "execute_result",
          "data": {
            "text/plain": [
              "-asinh(1/3) + asinh(4/3)"
            ],
            "text/latex": "$\\displaystyle - \\operatorname{asinh}{\\left(\\frac{1}{3} \\right)} + \\operatorname{asinh}{\\left(\\frac{4}{3} \\right)}$"
          },
          "metadata": {},
          "execution_count": 22
        }
      ]
    },
    {
      "cell_type": "markdown",
      "source": [
        "$$\\int_1^t x^{10} e^x dx $$"
      ],
      "metadata": {
        "id": "dy5sU2wlytBO"
      }
    },
    {
      "cell_type": "code",
      "source": [
        "t = smp.symbols('t')"
      ],
      "metadata": {
        "id": "s3dueJAXytVN"
      },
      "execution_count": 23,
      "outputs": []
    },
    {
      "cell_type": "code",
      "source": [
        "smp.integrate(x**10 * smp.exp(x), (x, 1, t))"
      ],
      "metadata": {
        "colab": {
          "base_uri": "https://localhost:8080/",
          "height": 38
        },
        "id": "VH0eoc9iyw78",
        "outputId": "2ae357d7-a8fe-4bcb-9b73-d1fadff7728d"
      },
      "execution_count": 24,
      "outputs": [
        {
          "output_type": "execute_result",
          "data": {
            "text/plain": [
              "(t**10 - 10*t**9 + 90*t**8 - 720*t**7 + 5040*t**6 - 30240*t**5 + 151200*t**4 - 604800*t**3 + 1814400*t**2 - 3628800*t + 3628800)*exp(t) - 1334961*E"
            ],
            "text/latex": "$\\displaystyle \\left(t^{10} - 10 t^{9} + 90 t^{8} - 720 t^{7} + 5040 t^{6} - 30240 t^{5} + 151200 t^{4} - 604800 t^{3} + 1814400 t^{2} - 3628800 t + 3628800\\right) e^{t} - 1334961 e$"
          },
          "metadata": {},
          "execution_count": 24
        }
      ]
    },
    {
      "cell_type": "markdown",
      "source": [
        "# Improper Integrals"
      ],
      "metadata": {
        "id": "CAZ9FGlHzfwu"
      }
    },
    {
      "cell_type": "markdown",
      "source": [
        "$$ \\int_{0}^{\\infty} \\frac{16 \\tan^{-1}(x)}{1+x^2} dx $$"
      ],
      "metadata": {
        "id": "3TmG6sYvziCM"
      }
    },
    {
      "cell_type": "code",
      "source": [
        "smp.integrate((16*smp.atan(x)) / (1+x**2), (x, 0, smp.oo))"
      ],
      "metadata": {
        "colab": {
          "base_uri": "https://localhost:8080/",
          "height": 38
        },
        "id": "YNdj9WsgzkId",
        "outputId": "d1225e7b-3dd3-42b6-ea97-2cb0bb4bcc79"
      },
      "execution_count": 25,
      "outputs": [
        {
          "output_type": "execute_result",
          "data": {
            "text/plain": [
              "2*pi**2"
            ],
            "text/latex": "$\\displaystyle 2 \\pi^{2}$"
          },
          "metadata": {},
          "execution_count": 25
        }
      ]
    },
    {
      "cell_type": "markdown",
      "source": [
        "# Derivative Exercises (Calculus with Analytic Geometry)"
      ],
      "metadata": {
        "id": "lUdJDM0IdGvg"
      }
    },
    {
      "cell_type": "markdown",
      "source": [
        "1. $$ \\frac{d}{dx} x^2-5x $$"
      ],
      "metadata": {
        "id": "Boz54Q-5eXDR"
      }
    },
    {
      "cell_type": "code",
      "source": [
        "smp.diff(x**2-5*x)"
      ],
      "metadata": {
        "colab": {
          "base_uri": "https://localhost:8080/",
          "height": 38
        },
        "id": "7evotI2oejzc",
        "outputId": "c9f52543-9b2b-423a-9fa9-dc53f2a03b73"
      },
      "execution_count": 38,
      "outputs": [
        {
          "output_type": "execute_result",
          "data": {
            "text/plain": [
              "2*x - 5"
            ],
            "text/latex": "$\\displaystyle 2 x - 5$"
          },
          "metadata": {},
          "execution_count": 38
        }
      ]
    },
    {
      "cell_type": "markdown",
      "source": [
        "2. $$ 1+3x-x^2 $$"
      ],
      "metadata": {
        "id": "Y-msLVJWhhbe"
      }
    },
    {
      "cell_type": "code",
      "source": [
        "smp.diff(1 + (3*x) - x**2)"
      ],
      "metadata": {
        "id": "S3yVYX6Ghpgr",
        "outputId": "941bf567-8a99-4389-b6ea-635cb777c3fe",
        "colab": {
          "base_uri": "https://localhost:8080/",
          "height": 38
        }
      },
      "execution_count": 51,
      "outputs": [
        {
          "output_type": "execute_result",
          "data": {
            "text/plain": [
              "3 - 2*x"
            ],
            "text/latex": "$\\displaystyle 3 - 2 x$"
          },
          "metadata": {},
          "execution_count": 51
        }
      ]
    },
    {
      "cell_type": "markdown",
      "source": [
        "3. $$ 2x^3+x $$"
      ],
      "metadata": {
        "id": "nqfCeWvmioWW"
      }
    },
    {
      "cell_type": "code",
      "source": [
        "smp.diff(2*x**3+x)"
      ],
      "metadata": {
        "id": "Yzxi7qmriJdD",
        "outputId": "761e0c29-7895-46be-f3b7-1d2f3ea27891",
        "colab": {
          "base_uri": "https://localhost:8080/",
          "height": 38
        }
      },
      "execution_count": 52,
      "outputs": [
        {
          "output_type": "execute_result",
          "data": {
            "text/plain": [
              "6*x**2 + 1"
            ],
            "text/latex": "$\\displaystyle 6 x^{2} + 1$"
          },
          "metadata": {},
          "execution_count": 52
        }
      ]
    },
    {
      "cell_type": "markdown",
      "source": [
        "4. $$ x^3-2x^2-3 $$"
      ],
      "metadata": {
        "id": "zT-y9CLMgvef"
      }
    },
    {
      "cell_type": "code",
      "source": [
        "smp.diff(x**3 - 2*x**2 - 3)"
      ],
      "metadata": {
        "id": "Zq3j4gByjTrG",
        "outputId": "5cad3958-884b-43b6-f177-89a6e31cecc2",
        "colab": {
          "base_uri": "https://localhost:8080/",
          "height": 38
        }
      },
      "execution_count": 55,
      "outputs": [
        {
          "output_type": "execute_result",
          "data": {
            "text/plain": [
              "3*x**2 - 4*x"
            ],
            "text/latex": "$\\displaystyle 3 x^{2} - 4 x$"
          },
          "metadata": {},
          "execution_count": 55
        }
      ]
    }
  ]
}