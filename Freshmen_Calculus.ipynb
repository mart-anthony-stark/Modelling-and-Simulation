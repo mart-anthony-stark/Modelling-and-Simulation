{
  "nbformat": 4,
  "nbformat_minor": 0,
  "metadata": {
    "colab": {
      "name": "Freshmen Calculus.ipynb",
      "provenance": [],
      "collapsed_sections": []
    },
    "kernelspec": {
      "name": "python3",
      "display_name": "Python 3"
    },
    "language_info": {
      "name": "python"
    }
  },
  "cells": [
    {
      "cell_type": "code",
      "execution_count": null,
      "metadata": {
        "id": "rCtf6Q4diWdr"
      },
      "outputs": [],
      "source": [
        "import sympy as smp\n",
        "from sympy import *"
      ]
    },
    {
      "cell_type": "code",
      "source": [
        "x, y = smp.symbols(\"x y\")"
      ],
      "metadata": {
        "id": "C4ZG38ZolBDO"
      },
      "execution_count": null,
      "outputs": []
    },
    {
      "cell_type": "markdown",
      "source": [
        "# Limits"
      ],
      "metadata": {
        "id": "SuU8TesGmZsL"
      }
    },
    {
      "cell_type": "markdown",
      "source": [
        "$$\\lim_{x \\to \\pi} \\sin(x/2+ \\sin(x))$$"
      ],
      "metadata": {
        "id": "Mdl4gsLamXZg"
      }
    },
    {
      "cell_type": "code",
      "source": [
        "smp.limit(smp.sin(x/2) + smp.sin(x), x, smp.pi)"
      ],
      "metadata": {
        "colab": {
          "base_uri": "https://localhost:8080/",
          "height": 37
        },
        "id": "1UZOkkgYmckz",
        "outputId": "8dedf5b2-5d9e-44ec-8a33-b2e1ce596a31"
      },
      "execution_count": 5,
      "outputs": [
        {
          "output_type": "execute_result",
          "data": {
            "text/plain": [
              "1"
            ],
            "text/latex": "$\\displaystyle 1$"
          },
          "metadata": {},
          "execution_count": 5
        }
      ]
    },
    {
      "cell_type": "markdown",
      "source": [
        "$$ \\lim_{x \\to 0^+} \\frac{2e^{1/x}}{e^{1/x}+1} $$"
      ],
      "metadata": {
        "id": "aCaey_NMm0Oy"
      }
    },
    {
      "cell_type": "code",
      "source": [
        "smp.limit(2*smp.exp(1/x) / (smp.exp(1/x) + 1), x, 0, dir=\"+\")"
      ],
      "metadata": {
        "colab": {
          "base_uri": "https://localhost:8080/",
          "height": 37
        },
        "id": "J0Q1WYlrm0zg",
        "outputId": "e26f9bba-7c84-4b98-e011-763987710c25"
      },
      "execution_count": 7,
      "outputs": [
        {
          "output_type": "execute_result",
          "data": {
            "text/plain": [
              "2"
            ],
            "text/latex": "$\\displaystyle 2$"
          },
          "metadata": {},
          "execution_count": 7
        }
      ]
    },
    {
      "cell_type": "markdown",
      "source": [
        "$$ \\lim_{x \\to 0^-} \\frac{2e^{1/x}}{e^{1/x}+1} $$"
      ],
      "metadata": {
        "id": "trx1uyb3nVa8"
      }
    },
    {
      "cell_type": "code",
      "source": [
        "smp.limit(2*smp.exp(1/x) / (smp.exp(1/x) + 1), x, 0, dir=\"-\")"
      ],
      "metadata": {
        "colab": {
          "base_uri": "https://localhost:8080/",
          "height": 37
        },
        "id": "yrHOuDKVnXmD",
        "outputId": "4b11e4f8-48b3-45d4-c571-532db8251994"
      },
      "execution_count": 8,
      "outputs": [
        {
          "output_type": "execute_result",
          "data": {
            "text/plain": [
              "0"
            ],
            "text/latex": "$\\displaystyle 0$"
          },
          "metadata": {},
          "execution_count": 8
        }
      ]
    },
    {
      "cell_type": "markdown",
      "source": [
        "$$ \\lim_{x \\to \\infty} \\frac{\\cos(x)-1}{x} $$"
      ],
      "metadata": {
        "id": "3MZsmkWAn0B5"
      }
    },
    {
      "cell_type": "code",
      "source": [
        "smp.limit((smp.cos(x)-1) / x, x, smp.oo)"
      ],
      "metadata": {
        "colab": {
          "base_uri": "https://localhost:8080/",
          "height": 37
        },
        "id": "FLSEenNXnziD",
        "outputId": "4eb8f0c5-5e25-4ab9-cc01-cf05293e99bc"
      },
      "execution_count": 10,
      "outputs": [
        {
          "output_type": "execute_result",
          "data": {
            "text/plain": [
              "0"
            ],
            "text/latex": "$\\displaystyle 0$"
          },
          "metadata": {},
          "execution_count": 10
        }
      ]
    },
    {
      "cell_type": "markdown",
      "source": [
        "# Derivatives"
      ],
      "metadata": {
        "id": "Ans3XSK9oJJ0"
      }
    },
    {
      "cell_type": "code",
      "source": [],
      "metadata": {
        "id": "sVC-B9KcoL9T"
      },
      "execution_count": null,
      "outputs": []
    }
  ]
}