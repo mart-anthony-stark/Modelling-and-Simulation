{
  "nbformat": 4,
  "nbformat_minor": 0,
  "metadata": {
    "colab": {
      "name": "Freshmen Calculus.ipynb",
      "provenance": [],
      "collapsed_sections": []
    },
    "kernelspec": {
      "name": "python3",
      "display_name": "Python 3"
    },
    "language_info": {
      "name": "python"
    }
  },
  "cells": [
    {
      "cell_type": "code",
      "execution_count": null,
      "metadata": {
        "id": "rCtf6Q4diWdr"
      },
      "outputs": [],
      "source": [
        "import sympy as smp\n",
        "from sympy import *"
      ]
    },
    {
      "cell_type": "code",
      "source": [
        "x, y = smp.symbols(\"x y\")"
      ],
      "metadata": {
        "id": "C4ZG38ZolBDO"
      },
      "execution_count": null,
      "outputs": []
    },
    {
      "cell_type": "markdown",
      "source": [
        "# Limits"
      ],
      "metadata": {
        "id": "SuU8TesGmZsL"
      }
    },
    {
      "cell_type": "markdown",
      "source": [
        "$$\\lim_{x \\to \\pi} \\sin(x/2+ \\sin(x))$$"
      ],
      "metadata": {
        "id": "Mdl4gsLamXZg"
      }
    },
    {
      "cell_type": "code",
      "source": [
        "smp.limit(smp.sin(x/2) + smp.sin(x), x, smp.pi)"
      ],
      "metadata": {
        "colab": {
          "base_uri": "https://localhost:8080/",
          "height": 37
        },
        "id": "1UZOkkgYmckz",
        "outputId": "8dedf5b2-5d9e-44ec-8a33-b2e1ce596a31"
      },
      "execution_count": 5,
      "outputs": [
        {
          "output_type": "execute_result",
          "data": {
            "text/plain": [
              "1"
            ],
            "text/latex": "$\\displaystyle 1$"
          },
          "metadata": {},
          "execution_count": 5
        }
      ]
    },
    {
      "cell_type": "markdown",
      "source": [
        "$$ \\lim_{x \\to 0^+} \\frac{2e^{1/x}}{e^{1/x}+1} $$"
      ],
      "metadata": {
        "id": "aCaey_NMm0Oy"
      }
    },
    {
      "cell_type": "code",
      "source": [
        "smp.limit(2*smp.exp(1/x) / (smp.exp(1/x) + 1), x, 0, dir=\"+\")"
      ],
      "metadata": {
        "colab": {
          "base_uri": "https://localhost:8080/",
          "height": 37
        },
        "id": "J0Q1WYlrm0zg",
        "outputId": "e26f9bba-7c84-4b98-e011-763987710c25"
      },
      "execution_count": 7,
      "outputs": [
        {
          "output_type": "execute_result",
          "data": {
            "text/plain": [
              "2"
            ],
            "text/latex": "$\\displaystyle 2$"
          },
          "metadata": {},
          "execution_count": 7
        }
      ]
    },
    {
      "cell_type": "markdown",
      "source": [
        "$$ \\lim_{x \\to 0^-} \\frac{2e^{1/x}}{e^{1/x}+1} $$"
      ],
      "metadata": {
        "id": "trx1uyb3nVa8"
      }
    },
    {
      "cell_type": "code",
      "source": [
        "smp.limit(2*smp.exp(1/x) / (smp.exp(1/x) + 1), x, 0, dir=\"-\")"
      ],
      "metadata": {
        "colab": {
          "base_uri": "https://localhost:8080/",
          "height": 37
        },
        "id": "yrHOuDKVnXmD",
        "outputId": "4b11e4f8-48b3-45d4-c571-532db8251994"
      },
      "execution_count": 8,
      "outputs": [
        {
          "output_type": "execute_result",
          "data": {
            "text/plain": [
              "0"
            ],
            "text/latex": "$\\displaystyle 0$"
          },
          "metadata": {},
          "execution_count": 8
        }
      ]
    },
    {
      "cell_type": "markdown",
      "source": [
        "$$ \\lim_{x \\to \\infty} \\frac{\\cos(x)-1}{x} $$"
      ],
      "metadata": {
        "id": "3MZsmkWAn0B5"
      }
    },
    {
      "cell_type": "code",
      "source": [
        "smp.limit((smp.cos(x)-1) / x, x, smp.oo)"
      ],
      "metadata": {
        "colab": {
          "base_uri": "https://localhost:8080/",
          "height": 37
        },
        "id": "FLSEenNXnziD",
        "outputId": "4eb8f0c5-5e25-4ab9-cc01-cf05293e99bc"
      },
      "execution_count": 10,
      "outputs": [
        {
          "output_type": "execute_result",
          "data": {
            "text/plain": [
              "0"
            ],
            "text/latex": "$\\displaystyle 0$"
          },
          "metadata": {},
          "execution_count": 10
        }
      ]
    },
    {
      "cell_type": "markdown",
      "source": [
        "# Derivatives"
      ],
      "metadata": {
        "id": "Ans3XSK9oJJ0"
      }
    },
    {
      "cell_type": "markdown",
      "source": [
        "$$ \\frac{d}{dx} \\left( \\frac{1+\\sin x}{1 - \\cos x} \\right)^2 $$"
      ],
      "metadata": {
        "id": "piW5oc0Ro1Ts"
      }
    },
    {
      "cell_type": "code",
      "source": [
        "smp.diff( ( (1 + smp.sin(x)) / (1 - smp.cos(x)) )**2, x)"
      ],
      "metadata": {
        "colab": {
          "base_uri": "https://localhost:8080/",
          "height": 63
        },
        "id": "sVC-B9KcoL9T",
        "outputId": "7c9f4e1f-d2d6-45a1-b68e-39197a84d876"
      },
      "execution_count": 14,
      "outputs": [
        {
          "output_type": "execute_result",
          "data": {
            "text/plain": [
              "2*(sin(x) + 1)*cos(x)/(1 - cos(x))**2 - 2*(sin(x) + 1)**2*sin(x)/(1 - cos(x))**3"
            ],
            "text/latex": "$\\displaystyle \\frac{2 \\left(\\sin{\\left(x \\right)} + 1\\right) \\cos{\\left(x \\right)}}{\\left(1 - \\cos{\\left(x \\right)}\\right)^{2}} - \\frac{2 \\left(\\sin{\\left(x \\right)} + 1\\right)^{2} \\sin{\\left(x \\right)}}{\\left(1 - \\cos{\\left(x \\right)}\\right)^{3}}$"
          },
          "metadata": {},
          "execution_count": 14
        }
      ]
    },
    {
      "cell_type": "markdown",
      "source": [
        "$$ \\frac{d}{dx} (\\log_5 (x))^{x/2}$$"
      ],
      "metadata": {
        "id": "S1PM6Q66pdK2"
      }
    },
    {
      "cell_type": "code",
      "source": [
        "smp.diff(log(x, 5) ** (x/2), x)"
      ],
      "metadata": {
        "colab": {
          "base_uri": "https://localhost:8080/",
          "height": 80
        },
        "id": "PMufGa0mpfSN",
        "outputId": "948f2314-203e-406d-f33b-09030a064de9"
      },
      "execution_count": 15,
      "outputs": [
        {
          "output_type": "execute_result",
          "data": {
            "text/plain": [
              "(log(x)/log(5))**(x/2)*(log(log(x)/log(5))/2 + 1/(2*log(x)))"
            ],
            "text/latex": "$\\displaystyle \\left(\\frac{\\log{\\left(x \\right)}}{\\log{\\left(5 \\right)}}\\right)^{\\frac{x}{2}} \\left(\\frac{\\log{\\left(\\frac{\\log{\\left(x \\right)}}{\\log{\\left(5 \\right)}} \\right)}}{2} + \\frac{1}{2 \\log{\\left(x \\right)}}\\right)$"
          },
          "metadata": {},
          "execution_count": 15
        }
      ]
    },
    {
      "cell_type": "markdown",
      "source": [
        "$$\\frac{d}{dx} f(x+g(x)) $$"
      ],
      "metadata": {
        "id": "5-mjyZvkp-_7"
      }
    },
    {
      "cell_type": "code",
      "source": [
        "f, g = smp.symbols('f g', cls=smp.Function)\n",
        "g = g(x)\n",
        "f = f(x+g)"
      ],
      "metadata": {
        "id": "6EvlhgWVp_S0"
      },
      "execution_count": 16,
      "outputs": []
    },
    {
      "cell_type": "code",
      "source": [
        "smp.diff(f, x)"
      ],
      "metadata": {
        "colab": {
          "base_uri": "https://localhost:8080/",
          "height": 62
        },
        "id": "LGeWIxPzqOIT",
        "outputId": "240b4407-891c-471f-9788-600dde6a84af"
      },
      "execution_count": 17,
      "outputs": [
        {
          "output_type": "execute_result",
          "data": {
            "text/plain": [
              "(Derivative(g(x), x) + 1)*Subs(Derivative(f(_xi_1), _xi_1), _xi_1, x + g(x))"
            ],
            "text/latex": "$\\displaystyle \\left(\\frac{d}{d x} g{\\left(x \\right)} + 1\\right) \\left. \\frac{d}{d \\xi_{1}} f{\\left(\\xi_{1} \\right)} \\right|_{\\substack{ \\xi_{1}=x + g{\\left(x \\right)} }}$"
          },
          "metadata": {},
          "execution_count": 17
        }
      ]
    },
    {
      "cell_type": "markdown",
      "source": [
        "# Antiderivatives"
      ],
      "metadata": {
        "id": "ljk5udg4q6U-"
      }
    },
    {
      "cell_type": "markdown",
      "source": [
        "$$ \\int \\csc(x) \\cot (x)  dx $$"
      ],
      "metadata": {
        "id": "PfEo0ldZq95E"
      }
    },
    {
      "cell_type": "code",
      "source": [
        "smp.integrate(smp.csc(x)*smp.cot(x), x)"
      ],
      "metadata": {
        "colab": {
          "base_uri": "https://localhost:8080/",
          "height": 55
        },
        "id": "f6xkgjw5q70h",
        "outputId": "ee5d5f7d-436f-4ea8-d9a1-91049233cdde"
      },
      "execution_count": 19,
      "outputs": [
        {
          "output_type": "execute_result",
          "data": {
            "text/plain": [
              "-1/sin(x)"
            ],
            "text/latex": "$\\displaystyle - \\frac{1}{\\sin{\\left(x \\right)}}$"
          },
          "metadata": {},
          "execution_count": 19
        }
      ]
    },
    {
      "cell_type": "markdown",
      "source": [
        "$$ \\int 4 \\sec (3x) \\tan(3x)dx $$"
      ],
      "metadata": {
        "id": "CLxahWpTrUAk"
      }
    },
    {
      "cell_type": "code",
      "source": [
        "smp.integrate(4*smp.sec(3*x)*smp.tan(3*x), x)"
      ],
      "metadata": {
        "colab": {
          "base_uri": "https://localhost:8080/",
          "height": 55
        },
        "id": "f2SYqjhIrQ7D",
        "outputId": "d8957286-05e8-405f-988c-7438b1785e2e"
      },
      "execution_count": 20,
      "outputs": [
        {
          "output_type": "execute_result",
          "data": {
            "text/plain": [
              "4/(3*cos(3*x))"
            ],
            "text/latex": "$\\displaystyle \\frac{4}{3 \\cos{\\left(3 x \\right)}}$"
          },
          "metadata": {},
          "execution_count": 20
        }
      ]
    },
    {
      "cell_type": "markdown",
      "source": [
        "$$ \\int \\left( \\frac{2}{\\sqrt{1-x^2}} - \\frac{1}{x^{1/4}}\\right) dx$$"
      ],
      "metadata": {
        "id": "3YrfGhAIr7Me"
      }
    },
    {
      "cell_type": "code",
      "source": [
        "smp.integrate(2/smp.sqrt(1-x**2) - 1/(x**smp.Rational(1,4)), x)"
      ],
      "metadata": {
        "colab": {
          "base_uri": "https://localhost:8080/",
          "height": 56
        },
        "id": "bJ6r4pDesXIE",
        "outputId": "3b8aa21b-7a6d-4392-cdb0-8387c96397d8"
      },
      "execution_count": 21,
      "outputs": [
        {
          "output_type": "execute_result",
          "data": {
            "text/plain": [
              "-4*x**(3/4)/3 + 2*asin(x)"
            ],
            "text/latex": "$\\displaystyle - \\frac{4 x^{\\frac{3}{4}}}{3} + 2 \\operatorname{asin}{\\left(x \\right)}$"
          },
          "metadata": {},
          "execution_count": 21
        }
      ]
    },
    {
      "cell_type": "markdown",
      "source": [
        "# Value Problems"
      ],
      "metadata": {
        "id": "mz2OhSoTtMlD"
      }
    },
    {
      "cell_type": "markdown",
      "source": [
        "1. Given $\\frac{dy}{dx} = 8x + \\csc^2(x)$ with $y(\\pi/2) = -7$  solve for $y(x)$"
      ],
      "metadata": {
        "id": "u5iiH6qStWxb"
      }
    },
    {
      "cell_type": "code",
      "source": [
        "integral = smp.integrate(8*x + smp.csc(x)**2, x)"
      ],
      "metadata": {
        "id": "WUPObzeYtXPs"
      },
      "execution_count": 22,
      "outputs": []
    },
    {
      "cell_type": "code",
      "source": [
        "C = - integral.subs(x, smp.pi/2) - 7\n",
        "C"
      ],
      "metadata": {
        "colab": {
          "base_uri": "https://localhost:8080/",
          "height": 38
        },
        "id": "2_qa_vxTthAK",
        "outputId": "7ee893e5-ddff-4139-e033-660ee207e10e"
      },
      "execution_count": 24,
      "outputs": [
        {
          "output_type": "execute_result",
          "data": {
            "text/plain": [
              "-pi**2 - 7"
            ],
            "text/latex": "$\\displaystyle - \\pi^{2} - 7$"
          },
          "metadata": {},
          "execution_count": 24
        }
      ]
    },
    {
      "cell_type": "code",
      "source": [
        "y = integral + C\n",
        "y"
      ],
      "metadata": {
        "colab": {
          "base_uri": "https://localhost:8080/",
          "height": 57
        },
        "id": "uuyxj8-7t3lc",
        "outputId": "be0224f1-8e0f-414c-e2bf-d997bfb75099"
      },
      "execution_count": 25,
      "outputs": [
        {
          "output_type": "execute_result",
          "data": {
            "text/plain": [
              "4*x**2 - pi**2 - 7 - cos(x)/sin(x)"
            ],
            "text/latex": "$\\displaystyle 4 x^{2} - \\pi^{2} - 7 - \\frac{\\cos{\\left(x \\right)}}{\\sin{\\left(x \\right)}}$"
          },
          "metadata": {},
          "execution_count": 25
        }
      ]
    },
    {
      "cell_type": "code",
      "source": [
        "y.subs(x, smp.pi/2)"
      ],
      "metadata": {
        "colab": {
          "base_uri": "https://localhost:8080/",
          "height": 37
        },
        "id": "L_5JCzGBt87t",
        "outputId": "a119820f-5bda-49b9-ab64-807561b847bf"
      },
      "execution_count": 26,
      "outputs": [
        {
          "output_type": "execute_result",
          "data": {
            "text/plain": [
              "-7"
            ],
            "text/latex": "$\\displaystyle -7$"
          },
          "metadata": {},
          "execution_count": 26
        }
      ]
    },
    {
      "cell_type": "code",
      "source": [
        "y"
      ],
      "metadata": {
        "colab": {
          "base_uri": "https://localhost:8080/",
          "height": 57
        },
        "id": "ACUbmPOhuFhG",
        "outputId": "a06db5d5-ee95-4c94-a455-fb895183d282"
      },
      "execution_count": 27,
      "outputs": [
        {
          "output_type": "execute_result",
          "data": {
            "text/plain": [
              "4*x**2 - pi**2 - 7 - cos(x)/sin(x)"
            ],
            "text/latex": "$\\displaystyle 4 x^{2} - \\pi^{2} - 7 - \\frac{\\cos{\\left(x \\right)}}{\\sin{\\left(x \\right)}}$"
          },
          "metadata": {},
          "execution_count": 27
        }
      ]
    }
  ]
}