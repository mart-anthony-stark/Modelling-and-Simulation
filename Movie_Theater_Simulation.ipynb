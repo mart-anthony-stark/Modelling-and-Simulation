{
  "nbformat": 4,
  "nbformat_minor": 0,
  "metadata": {
    "colab": {
      "name": "Movie Theater Simulation.ipynb",
      "provenance": [],
      "authorship_tag": "ABX9TyMaB6JSg5y6lSQGsLMMJNiH",
      "include_colab_link": true
    },
    "kernelspec": {
      "name": "python3",
      "display_name": "Python 3"
    },
    "language_info": {
      "name": "python"
    }
  },
  "cells": [
    {
      "cell_type": "markdown",
      "metadata": {
        "id": "view-in-github",
        "colab_type": "text"
      },
      "source": [
        "<a href=\"https://colab.research.google.com/github/mart-anthony-stark/Modelling-and-Simulation/blob/main/Movie_Theater_Simulation.ipynb\" target=\"_parent\"><img src=\"https://colab.research.google.com/assets/colab-badge.svg\" alt=\"Open In Colab\"/></a>"
      ]
    },
    {
      "cell_type": "markdown",
      "source": [
        "# Movie Theater Simulation"
      ],
      "metadata": {
        "id": "8eD8vz1R5Djp"
      }
    },
    {
      "cell_type": "markdown",
      "source": [
        "Goal - Average Wait - 10mins or less\n",
        "\n",
        "Simulation Process\n",
        "- Arrive at theater\n",
        "- get in line to buy ticket\n",
        "- buy a ticket\n",
        "- wait in line to have their ticket checked\n",
        "- have their ticket checked\n",
        "- decide to buy concessions or not\n",
        "- buy concessions or go directly to seat\n"
      ],
      "metadata": {
        "id": "nFiwSzKc4Tod"
      }
    },
    {
      "cell_type": "code",
      "source": [
        "!pip install simpy"
      ],
      "metadata": {
        "colab": {
          "base_uri": "https://localhost:8080/"
        },
        "id": "vB4jLEVOBOgJ",
        "outputId": "43c6f55e-9d3d-4ab4-ae68-ff10206d7223"
      },
      "execution_count": 21,
      "outputs": [
        {
          "output_type": "stream",
          "name": "stdout",
          "text": [
            "Looking in indexes: https://pypi.org/simple, https://us-python.pkg.dev/colab-wheels/public/simple/\n",
            "Requirement already satisfied: simpy in /usr/local/lib/python3.7/dist-packages (4.0.1)\n"
          ]
        }
      ]
    },
    {
      "cell_type": "code",
      "execution_count": 22,
      "metadata": {
        "id": "IN6D1uRl3w7_"
      },
      "outputs": [],
      "source": [
        "import simpy\n",
        "import random\n",
        "import statistics"
      ]
    },
    {
      "cell_type": "code",
      "source": [
        "wait_times = []"
      ],
      "metadata": {
        "id": "voxCLa8C5c-z"
      },
      "execution_count": 23,
      "outputs": []
    },
    {
      "cell_type": "code",
      "source": [
        "class Theater(object):\n",
        "  def __init__(self, env, num_cashiers, num_servers, num_ushers):\n",
        "    self.env = env\n",
        "    self.cashier = simpy.Resource(env, num_cashiers)\n",
        "    self.server = simpy.Resource(env, num_servers)\n",
        "    self.usher = simpy.Resource(env, num_ushers)\n",
        "\n",
        "  def purchase_ticket(self, moviegoer):\n",
        "    yield self.env.timeout(random.randint(1, 3)) # 1-3 mins\n",
        "\n",
        "  def check_ticket(self, moviegoer):\n",
        "    yield self.env.timeout(3 / 60) # 3 seconds\n",
        "\n",
        "  def sell_food(self, moviegoer):\n",
        "    yield self.env.timeout(random.randint(1,5)) # 1-5 mins"
      ],
      "metadata": {
        "id": "Wn-RbLFo5i0a"
      },
      "execution_count": 24,
      "outputs": []
    },
    {
      "cell_type": "code",
      "source": [
        "def goto_movies(env, moviegoer, theater):\n",
        "  # Moviegoer arrives at the theater\n",
        "  arrival_time = env.now\n",
        "\n",
        "  with theater.cashier.request() as request:\n",
        "    yield request\n",
        "    yield env.process(theater.purchase_ticket(moviegoer))\n",
        "\n",
        "  with theater.usher.request() as request:\n",
        "    yield request\n",
        "    yield env.process(theater.check_ticket(moviegoer))\n",
        "  \n",
        "  if random.choice([True, False]):\n",
        "    with theater.server.request() as request:\n",
        "      yield request\n",
        "      yield env.process(theater.sell_food(moviegoer))\n",
        "\n",
        "  # Moviegoer heads into the theater\n",
        "  wait_times.append(env.now - arrival_time)"
      ],
      "metadata": {
        "id": "Q7YcGCM6-TN0"
      },
      "execution_count": 25,
      "outputs": []
    },
    {
      "cell_type": "code",
      "source": [
        "def run_theater(env, num_cashiers, num_servers, num_ushers):\n",
        "  theater = Theater(env, num_cashiers, num_servers, num_ushers)\n",
        "\n",
        "  for moviegoer in range(3):\n",
        "    env.process(goto_movies(env, moviegoer, theater))\n",
        "\n",
        "  while True:\n",
        "    yield env.timeout(0.20)  # Wait a bit before generating a new person\n",
        "\n",
        "    moviegoer += 1\n",
        "    env.process(goto_movies(env, moviegoer, theater))"
      ],
      "metadata": {
        "id": "zsI4JhGb_y6s"
      },
      "execution_count": 26,
      "outputs": []
    },
    {
      "cell_type": "code",
      "source": [
        "def get_average_wait_time(wait_times):\n",
        "  average_wait = statistics.mean(wait_times)\n",
        "  # Pretty print the results\n",
        "  minutes, frac_minutes = divmod(average_wait, 1)\n",
        "  seconds = frac_minutes * 60\n",
        "  return round(minutes), round(seconds)"
      ],
      "metadata": {
        "id": "75cdICugApLO"
      },
      "execution_count": 27,
      "outputs": []
    },
    {
      "cell_type": "code",
      "source": [
        "def get_user_input():\n",
        "    num_cashiers = input(\"Input # of cashiers working: \")\n",
        "    num_servers = input(\"Input # of servers working: \")\n",
        "    num_ushers = input(\"Input # of ushers working: \")\n",
        "    params = [num_cashiers, num_servers, num_ushers]\n",
        "    if all(str(i).isdigit() for i in params):  # Check input is valid\n",
        "        params = [int(x) for x in params]\n",
        "    else:\n",
        "        print(\n",
        "            \"Could not parse input. Simulation will use default values:\",\n",
        "            \"\\n1 cashier, 1 server, 1 usher.\",\n",
        "        )\n",
        "        params = [1, 1, 1]\n",
        "    return params"
      ],
      "metadata": {
        "id": "yK_oA7C9BA0i"
      },
      "execution_count": 28,
      "outputs": []
    },
    {
      "cell_type": "code",
      "source": [
        "def main():\n",
        "    # Setup\n",
        "    random.seed(42)\n",
        "    num_cashiers, num_servers, num_ushers = get_user_input()\n",
        "\n",
        "    # Run the simulation\n",
        "    env = simpy.Environment()\n",
        "    env.process(run_theater(env, num_cashiers, num_servers, num_ushers))\n",
        "    env.run(until=90)\n",
        "\n",
        "    # View the results\n",
        "    mins, secs = get_average_wait_time(wait_times)\n",
        "    print(\n",
        "        \"Running simulation...\",\n",
        "        f\"\\nThe average wait time is {mins} minutes and {secs} seconds.\",\n",
        "    )"
      ],
      "metadata": {
        "id": "O8XJwkf0BIq5"
      },
      "execution_count": 29,
      "outputs": []
    },
    {
      "cell_type": "code",
      "source": [
        "main()"
      ],
      "metadata": {
        "colab": {
          "base_uri": "https://localhost:8080/"
        },
        "id": "SUmxAnwxCTVs",
        "outputId": "ddb4aee1-c94b-42f9-9d75-7c5a0374cd75"
      },
      "execution_count": 30,
      "outputs": [
        {
          "output_type": "stream",
          "name": "stdout",
          "text": [
            "Input # of cashiers working: 4\n",
            "Input # of servers working: 5\n",
            "Input # of ushers working: 4\n",
            "Running simulation... \n",
            "The average wait time is 29 minutes and 26 seconds.\n"
          ]
        }
      ]
    }
  ]
}