{
  "nbformat": 4,
  "nbformat_minor": 0,
  "metadata": {
    "colab": {
      "name": "Movie Theater Simulation.ipynb",
      "provenance": [],
      "authorship_tag": "ABX9TyPiYA1ftzzwe0tyQiMvx+QW",
      "include_colab_link": true
    },
    "kernelspec": {
      "name": "python3",
      "display_name": "Python 3"
    },
    "language_info": {
      "name": "python"
    }
  },
  "cells": [
    {
      "cell_type": "markdown",
      "metadata": {
        "id": "view-in-github",
        "colab_type": "text"
      },
      "source": [
        "<a href=\"https://colab.research.google.com/github/mart-anthony-stark/Modelling-and-Simulation/blob/main/Movie_Theater_Simulation.ipynb\" target=\"_parent\"><img src=\"https://colab.research.google.com/assets/colab-badge.svg\" alt=\"Open In Colab\"/></a>"
      ]
    },
    {
      "cell_type": "markdown",
      "source": [
        "# Movie Theater Simulation"
      ],
      "metadata": {
        "id": "8eD8vz1R5Djp"
      }
    },
    {
      "cell_type": "markdown",
      "source": [
        "Goal - Average Wait - 10mins or less\n",
        "\n",
        "Simulation Process\n",
        "- Arrive at theater\n",
        "- get in line to buy ticket\n",
        "- buy a ticket\n",
        "- wait in line to have their ticket checked\n",
        "- have their ticket checked\n",
        "- decide to buy concessions or not\n",
        "- buy concessions or go directly to seat\n"
      ],
      "metadata": {
        "id": "nFiwSzKc4Tod"
      }
    },
    {
      "cell_type": "code",
      "execution_count": 1,
      "metadata": {
        "id": "IN6D1uRl3w7_"
      },
      "outputs": [],
      "source": [
        "import sympy\n",
        "import random\n",
        "import statistics"
      ]
    },
    {
      "cell_type": "code",
      "source": [
        "wait_times = []"
      ],
      "metadata": {
        "id": "voxCLa8C5c-z"
      },
      "execution_count": 2,
      "outputs": []
    },
    {
      "cell_type": "code",
      "source": [
        "class Theater(object):\n",
        "  def __init__(self, env, num_cashiers, num_servers, num_ushers):\n",
        "    self.env = env\n",
        "    self.cashier = sympy.Resource(env, num_cashiers)\n",
        "    self.servers = sympy.Resource(env, num_servers)\n",
        "    self.ushers = sympy.Resource(env, num_ushers)\n",
        "\n",
        "  def purchase_ticket(self, moviegoer):\n",
        "    yield self.env.timeout(random.randint(1, 2)) # 1-2 mins\n",
        "\n",
        "  def check_ticket(self, moviegoer):\n",
        "    yield self.env.timeout(3 / 60) # 3 seconds\n",
        "\n",
        "  def sell_food(self, moviegoer):\n",
        "    yield self.env.timeout(random.randint(1,5)) # 1-5 mins"
      ],
      "metadata": {
        "id": "Wn-RbLFo5i0a"
      },
      "execution_count": 4,
      "outputs": []
    }
  ]
}